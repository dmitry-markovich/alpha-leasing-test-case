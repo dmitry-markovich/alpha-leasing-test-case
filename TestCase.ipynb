{
 "cells": [
  {
   "cell_type": "code",
   "execution_count": 1,
   "metadata": {},
   "outputs": [],
   "source": [
    "import pandas"
   ]
  },
  {
   "cell_type": "code",
   "execution_count": 3,
   "metadata": {},
   "outputs": [],
   "source": [
    "FlightData = pandas.read_csv('2008.csv')"
   ]
  },
  {
   "cell_type": "code",
   "execution_count": 7,
   "metadata": {},
   "outputs": [
    {
     "data": {
      "text/plain": [
       "Year                   2008\n",
       "Month                     6\n",
       "DayofMonth               18\n",
       "DayOfWeek                 3\n",
       "DepTime                2111\n",
       "CRSDepTime             2055\n",
       "ArrTime                2308\n",
       "CRSArrTime             2300\n",
       "UniqueCarrier            WN\n",
       "FlightNum               242\n",
       "TailNum              N699SW\n",
       "ActualElapsedTime        57\n",
       "CRSElapsedTime           65\n",
       "AirTime                  46\n",
       "ArrDelay                  8\n",
       "DepDelay                 16\n",
       "Origin                  MDW\n",
       "Dest                    CLE\n",
       "Distance                307\n",
       "TaxiIn                    3\n",
       "TaxiOut                   8\n",
       "Cancelled                 0\n",
       "CancellationCode          0\n",
       "Diverted                  0\n",
       "CarrierDelay              0\n",
       "WeatherDelay              0\n",
       "NASDelay                  0\n",
       "SecurityDelay             0\n",
       "LateAircraftDelay         0\n",
       "Name: 0, dtype: object"
      ]
     },
     "execution_count": 7,
     "metadata": {},
     "output_type": "execute_result"
    }
   ],
   "source": [
    "FlightData.iloc[0]"
   ]
  },
  {
   "cell_type": "code",
   "execution_count": 6,
   "metadata": {},
   "outputs": [],
   "source": [
    "FlightData = FlightData.fillna(0)"
   ]
  },
  {
   "cell_type": "code",
   "execution_count": 57,
   "metadata": {},
   "outputs": [
    {
     "data": {
      "text/plain": [
       "['Year',\n",
       " 'Month',\n",
       " 'DayofMonth',\n",
       " 'DayOfWeek',\n",
       " 'DepTime',\n",
       " 'CRSDepTime',\n",
       " 'ArrTime',\n",
       " 'CRSArrTime',\n",
       " 'UniqueCarrier',\n",
       " 'FlightNum',\n",
       " 'TailNum',\n",
       " 'ActualElapsedTime',\n",
       " 'CRSElapsedTime',\n",
       " 'AirTime',\n",
       " 'ArrDelay',\n",
       " 'DepDelay',\n",
       " 'Origin',\n",
       " 'Dest',\n",
       " 'Distance',\n",
       " 'TaxiIn',\n",
       " 'TaxiOut',\n",
       " 'Cancelled',\n",
       " 'CancellationCode',\n",
       " 'Diverted',\n",
       " 'CarrierDelay',\n",
       " 'WeatherDelay',\n",
       " 'NASDelay',\n",
       " 'SecurityDelay',\n",
       " 'LateAircraftDelay']"
      ]
     },
     "execution_count": 57,
     "metadata": {},
     "output_type": "execute_result"
    }
   ],
   "source": [
    "list(FlightData)"
   ]
  },
  {
   "cell_type": "code",
   "execution_count": 55,
   "metadata": {},
   "outputs": [],
   "source": [
    "DelayData = pandas.DataFrame(columns=['DelayReason','DelayRate','DelayMean','DelayVar','DelayMed'])\n",
    "for delayReason in list(FlightData)[24:30]:\n",
    "    data = {\n",
    "        'DelayReason': delayReason,\n",
    "        'DelayRate': FlightData[FlightData[delayReason]>0].count()[0] / FlightData.count()[0],\n",
    "        'DelayMean': float(FlightData[FlightData[delayReason]>0][delayReason].mean()),\n",
    "        'DelayVar':  float(FlightData[FlightData[delayReason]>0][delayReason].std()),\n",
    "        'DelayMed':  float(FlightData[FlightData[delayReason]>0][delayReason].median())\n",
    "    }\n",
    "    DelayData=DelayData.append(data,ignore_index=True)"
   ]
  },
  {
   "cell_type": "code",
   "execution_count": 56,
   "metadata": {},
   "outputs": [
    {
     "data": {
      "text/html": [
       "<div>\n",
       "<style scoped>\n",
       "    .dataframe tbody tr th:only-of-type {\n",
       "        vertical-align: middle;\n",
       "    }\n",
       "\n",
       "    .dataframe tbody tr th {\n",
       "        vertical-align: top;\n",
       "    }\n",
       "\n",
       "    .dataframe thead th {\n",
       "        text-align: right;\n",
       "    }\n",
       "</style>\n",
       "<table border=\"1\" class=\"dataframe\">\n",
       "  <thead>\n",
       "    <tr style=\"text-align: right;\">\n",
       "      <th></th>\n",
       "      <th>DelayReason</th>\n",
       "      <th>DelayRate</th>\n",
       "      <th>DelayMean</th>\n",
       "      <th>DelayVar</th>\n",
       "      <th>DelayMed</th>\n",
       "    </tr>\n",
       "  </thead>\n",
       "  <tbody>\n",
       "    <tr>\n",
       "      <th>0</th>\n",
       "      <td>CarrierDelay</td>\n",
       "      <td>0.098143</td>\n",
       "      <td>35.218195</td>\n",
       "      <td>51.243668</td>\n",
       "      <td>19.0</td>\n",
       "    </tr>\n",
       "    <tr>\n",
       "      <th>1</th>\n",
       "      <td>WeatherDelay</td>\n",
       "      <td>0.013829</td>\n",
       "      <td>44.591942</td>\n",
       "      <td>55.408270</td>\n",
       "      <td>25.0</td>\n",
       "    </tr>\n",
       "    <tr>\n",
       "      <th>2</th>\n",
       "      <td>NASDelay</td>\n",
       "      <td>0.130471</td>\n",
       "      <td>27.977335</td>\n",
       "      <td>37.390424</td>\n",
       "      <td>18.0</td>\n",
       "    </tr>\n",
       "    <tr>\n",
       "      <th>3</th>\n",
       "      <td>SecurityDelay</td>\n",
       "      <td>0.000843</td>\n",
       "      <td>20.406780</td>\n",
       "      <td>26.413893</td>\n",
       "      <td>12.0</td>\n",
       "    </tr>\n",
       "    <tr>\n",
       "      <th>4</th>\n",
       "      <td>LateAircraftDelay</td>\n",
       "      <td>0.100400</td>\n",
       "      <td>44.923307</td>\n",
       "      <td>47.163978</td>\n",
       "      <td>29.0</td>\n",
       "    </tr>\n",
       "  </tbody>\n",
       "</table>\n",
       "</div>"
      ],
      "text/plain": [
       "         DelayReason  DelayRate  DelayMean   DelayVar  DelayMed\n",
       "0       CarrierDelay   0.098143  35.218195  51.243668      19.0\n",
       "1       WeatherDelay   0.013829  44.591942  55.408270      25.0\n",
       "2           NASDelay   0.130471  27.977335  37.390424      18.0\n",
       "3      SecurityDelay   0.000843  20.406780  26.413893      12.0\n",
       "4  LateAircraftDelay   0.100400  44.923307  47.163978      29.0"
      ]
     },
     "execution_count": 56,
     "metadata": {},
     "output_type": "execute_result"
    }
   ],
   "source": [
    "DelayData"
   ]
  }
 ],
 "metadata": {
  "kernelspec": {
   "display_name": "Python 3",
   "language": "python",
   "name": "python3"
  },
  "language_info": {
   "codemirror_mode": {
    "name": "ipython",
    "version": 3
   },
   "file_extension": ".py",
   "mimetype": "text/x-python",
   "name": "python",
   "nbconvert_exporter": "python",
   "pygments_lexer": "ipython3",
   "version": "3.7.1"
  }
 },
 "nbformat": 4,
 "nbformat_minor": 2
}
